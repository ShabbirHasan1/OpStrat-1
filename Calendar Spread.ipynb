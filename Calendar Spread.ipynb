{
 "cells": [
  {
   "cell_type": "markdown",
   "metadata": {},
   "source": [
    "# Calendar Spread Payoff\n",
    "\n",
    "A calendar spread strategy profits from the time decay and/or increase in the implied volatility of the options. In this notebook, we will create a payoff graph of calendar spread at the expiry of front-month option."
   ]
  },
  {
   "cell_type": "markdown",
   "metadata": {},
   "source": [
    "## Importing The Libraries"
   ]
  },
  {
   "cell_type": "code",
   "execution_count": 2,
   "metadata": {},
   "outputs": [],
   "source": [
    "import numpy as np\n",
    "import pandas as pd\n",
    "import matplotlib.pyplot as plt\n",
    "import seaborn\n",
    "# BS Model\n",
    "import mibian"
   ]
  },
  {
   "cell_type": "markdown",
   "metadata": {},
   "source": [
    "## Setup Of A Calendar Spread Strategy\n",
    "Calendar spread involves options of the same underlying asset, the same strike price but with different expiration dates. \n",
    "\n",
    "- If a Call or Put is Sold with near-term expiration it is called the _front month_\n",
    "- If a Call or Put is Bought with long-term expiration it is called the _back month_"
   ]
  },
  {
   "cell_type": "markdown",
   "metadata": {},
   "source": [
    "## Calendar Spread On Nifty\n",
    "We will setup the Calendar Spread on Nifty as shown below at the same Strike Price\n",
    "\n",
    "- Sell 11013.10 strike call @ INR 85.20 expiring on 27 July 2018 : _front month_\n",
    "- Buy 11013.10 strike call @ INR 201.70 expiring on 30 August 2018 : _back month_"
   ]
  },
  {
   "cell_type": "code",
   "execution_count": 3,
   "metadata": {},
   "outputs": [],
   "source": [
    "# Nifty futures price (Assumed)\n",
    "nifty_jul_fut = 11030.50\n",
    "nifty_aug_fut = 11046.40\n",
    "\n",
    "strike_price = 11013.10\n",
    "jul_call_price = 85.20\n",
    "aug_call_price = 201.70\n",
    "setup_cost = aug_call_price - jul_call_price\n",
    "\n",
    "days_to_expiry_jul_call = 7\n",
    "days_to_expiry_aug_call = 41\n",
    "\n",
    "# Range of values for Nifty\n",
    "sT = np.arange(0.92*nifty_jul_fut,1.1*nifty_aug_fut,1) \n",
    "\n",
    "#interest rate for input to Black-Scholes model\n",
    "interest_rate = 0.0"
   ]
  },
  {
   "cell_type": "markdown",
   "metadata": {},
   "source": [
    "## Implied Volatility (IV)\n",
    "\n",
    "We calculate the IV using Black Scholes model for the front-month and back-month call option.\n",
    "To calculate the call price for different values of Nifty, this IV will be used later as an input to Black-Scholes model."
   ]
  },
  {
   "cell_type": "code",
   "execution_count": 4,
   "metadata": {},
   "outputs": [
    {
     "name": "stdout",
     "output_type": "stream",
     "text": [
      "Front Month IV 12.51 %\n",
      "Back Month IV 12.52 %\n"
     ]
    }
   ],
   "source": [
    "# Front-month IV\n",
    "jul_call_iv = mibian.BS([nifty_jul_fut, strike_price, interest_rate, days_to_expiry_jul_call], \n",
    "                        callPrice=jul_call_price).impliedVolatility\n",
    "print (\"Front Month IV %.2f\" % jul_call_iv,\"%\")\n",
    "\n",
    "# Back-month IV\n",
    "aug_call_iv = mibian.BS([nifty_aug_fut, strike_price, interest_rate, days_to_expiry_aug_call], \n",
    "                        callPrice=aug_call_price).impliedVolatility\n",
    "print (\"Back Month IV %.2f\" % aug_call_iv,\"%\")"
   ]
  },
  {
   "cell_type": "markdown",
   "metadata": {},
   "source": [
    "## Calculating The Call Price For Front And Back Month Option\n",
    "\n",
    "Since, there are two expiration dates for the options in the calendar spread, Black-Scholes pricing model is used to guesstimate the price of the front-month and back-month 11013.10 strike call at the front-month call expiry. \n",
    "\n",
    "Note: Implied volatility and interest rates are assumed to remain constant."
   ]
  },
  {
   "cell_type": "code",
   "execution_count": 5,
   "metadata": {},
   "outputs": [
    {
     "data": {
      "text/html": [
       "<div>\n",
       "<style scoped>\n",
       "    .dataframe tbody tr th:only-of-type {\n",
       "        vertical-align: middle;\n",
       "    }\n",
       "\n",
       "    .dataframe tbody tr th {\n",
       "        vertical-align: top;\n",
       "    }\n",
       "\n",
       "    .dataframe thead th {\n",
       "        text-align: right;\n",
       "    }\n",
       "</style>\n",
       "<table border=\"1\" class=\"dataframe\">\n",
       "  <thead>\n",
       "    <tr style=\"text-align: right;\">\n",
       "      <th></th>\n",
       "      <th>nifty_price</th>\n",
       "      <th>jul_call_price</th>\n",
       "      <th>aug_call_price</th>\n",
       "    </tr>\n",
       "  </thead>\n",
       "  <tbody>\n",
       "    <tr>\n",
       "      <th>0</th>\n",
       "      <td>10148.06</td>\n",
       "      <td>0.0</td>\n",
       "      <td>5.332499</td>\n",
       "    </tr>\n",
       "    <tr>\n",
       "      <th>1</th>\n",
       "      <td>10149.06</td>\n",
       "      <td>0.0</td>\n",
       "      <td>5.364952</td>\n",
       "    </tr>\n",
       "    <tr>\n",
       "      <th>2</th>\n",
       "      <td>10150.06</td>\n",
       "      <td>0.0</td>\n",
       "      <td>5.397576</td>\n",
       "    </tr>\n",
       "    <tr>\n",
       "      <th>3</th>\n",
       "      <td>10151.06</td>\n",
       "      <td>0.0</td>\n",
       "      <td>5.430371</td>\n",
       "    </tr>\n",
       "    <tr>\n",
       "      <th>4</th>\n",
       "      <td>10152.06</td>\n",
       "      <td>0.0</td>\n",
       "      <td>5.463337</td>\n",
       "    </tr>\n",
       "  </tbody>\n",
       "</table>\n",
       "</div>"
      ],
      "text/plain": [
       "   nifty_price  jul_call_price  aug_call_price\n",
       "0     10148.06             0.0        5.332499\n",
       "1     10149.06             0.0        5.364952\n",
       "2     10150.06             0.0        5.397576\n",
       "3     10151.06             0.0        5.430371\n",
       "4     10152.06             0.0        5.463337"
      ]
     },
     "execution_count": 5,
     "metadata": {},
     "output_type": "execute_result"
    }
   ],
   "source": [
    "# Changing days to expiry to a day before the front-month expiry\n",
    "days_to_expiry_jul_call = 0.001\n",
    "days_to_expiry_aug_call = 41 - days_to_expiry_jul_call\n",
    "\n",
    "df = pd.DataFrame()\n",
    "df['nifty_price'] = sT\n",
    "df['jul_call_price'] = np.nan\n",
    "df['aug_call_price'] = np.nan\n",
    "\n",
    "# Calculating call price for different possible values of Nifty\n",
    "for i in range(0,len(df)):\n",
    "    df.loc[i,'jul_call_price'] = mibian.BS([df.iloc[i]['nifty_price'], strike_price, interest_rate, days_to_expiry_jul_call], \n",
    "                                           volatility=jul_call_iv).callPrice\n",
    "    \n",
    "    # Since, interest rate is considered 0%, 35 is added to the nifty price to get the Nifty August futures price. \n",
    "    df.loc[i,'aug_call_price'] = mibian.BS([df.iloc[i]['nifty_price']+35, strike_price, interest_rate, days_to_expiry_aug_call], \n",
    "                                           volatility=aug_call_iv).callPrice\n",
    "df.head()"
   ]
  },
  {
   "cell_type": "markdown",
   "metadata": {},
   "source": [
    "## Calendar Spread Payoff"
   ]
  },
  {
   "cell_type": "code",
   "execution_count": 6,
   "metadata": {},
   "outputs": [
    {
     "data": {
      "image/png": "[encoded data removed]",
      "text/plain": [
       "<Figure size 720x360 with 1 Axes>"
      ]
     },
     "metadata": {
      "needs_background": "light"
     },
     "output_type": "display_data"
    }
   ],
   "source": [
    "df['payoff'] = df.aug_call_price - df.jul_call_price - setup_cost\n",
    "plt.figure(figsize=(10,5))\n",
    "plt.ylabel(\"payoff\")\n",
    "plt.xlabel(\"Nifty Price\")\n",
    "plt.plot(sT,df.payoff)\n",
    "plt.show()"
   ]
  },
  {
   "cell_type": "markdown",
   "metadata": {},
   "source": [
    "Graph Interpretation:\n",
    "\n",
    "*Max Profit*: When the Nifty price (on expiry of front-month) is at the strike price of INR 11013.10. It decreases when we move in either direction away from the Strike Price.\n",
    "\n",
    "*Max Loss*: When the option moves deep ITM (In-The-Money) or deep OTM (Out-of-The-Money)."
   ]
  },
  {
   "cell_type": "code",
   "execution_count": null,
   "metadata": {},
   "outputs": [],
   "source": []
  }
 ],
 "metadata": {
  "kernelspec": {
   "display_name": "Python 3",
   "language": "python",
   "name": "python3"
  },
  "language_info": {
   "codemirror_mode": {
    "name": "ipython",
    "version": 3
   },
   "file_extension": ".py",
   "mimetype": "text/x-python",
   "name": "python",
   "nbconvert_exporter": "python",
   "pygments_lexer": "ipython3",
   "version": "3.7.3"
  }
 },
 "nbformat": 4,
 "nbformat_minor": 2
}
